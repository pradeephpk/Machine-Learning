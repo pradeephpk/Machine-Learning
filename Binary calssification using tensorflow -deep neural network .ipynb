{
 "cells": [
  {
   "cell_type": "code",
   "execution_count": 1,
   "metadata": {
    "collapsed": true
   },
   "outputs": [],
   "source": [
    "#Advertising dataset for binary classification (Logistic regression)\n",
    "\n",
    "#Using deep neural network (tensorflow) "
   ]
  },
  {
   "cell_type": "code",
   "execution_count": 63,
   "metadata": {
    "collapsed": true
   },
   "outputs": [],
   "source": [
    "import pandas as pd\n",
    "import numpy as np\n",
    "import matplotlib.pyplot as plt"
   ]
  },
  {
   "cell_type": "code",
   "execution_count": 64,
   "metadata": {
    "collapsed": true
   },
   "outputs": [],
   "source": [
    "%matplotlib inline"
   ]
  },
  {
   "cell_type": "code",
   "execution_count": 65,
   "metadata": {
    "collapsed": true
   },
   "outputs": [],
   "source": [
    "df=pd.read_csv('advertising.csv')"
   ]
  },
  {
   "cell_type": "code",
   "execution_count": 66,
   "metadata": {
    "collapsed": true
   },
   "outputs": [],
   "source": [
    "df.columns = df.columns.str.replace(' ', '_')"
   ]
  },
  {
   "cell_type": "code",
   "execution_count": 67,
   "metadata": {},
   "outputs": [
    {
     "data": {
      "text/html": [
       "<div>\n",
       "<style>\n",
       "    .dataframe thead tr:only-child th {\n",
       "        text-align: right;\n",
       "    }\n",
       "\n",
       "    .dataframe thead th {\n",
       "        text-align: left;\n",
       "    }\n",
       "\n",
       "    .dataframe tbody tr th {\n",
       "        vertical-align: top;\n",
       "    }\n",
       "</style>\n",
       "<table border=\"1\" class=\"dataframe\">\n",
       "  <thead>\n",
       "    <tr style=\"text-align: right;\">\n",
       "      <th></th>\n",
       "      <th>Daily_Time_Spent_on_Site</th>\n",
       "      <th>Age</th>\n",
       "      <th>Area_Income</th>\n",
       "      <th>Daily_Internet_Usage</th>\n",
       "      <th>Ad_Topic_Line</th>\n",
       "      <th>City</th>\n",
       "      <th>Male</th>\n",
       "      <th>Country</th>\n",
       "      <th>Timestamp</th>\n",
       "      <th>Clicked_on_Ad</th>\n",
       "    </tr>\n",
       "  </thead>\n",
       "  <tbody>\n",
       "    <tr>\n",
       "      <th>0</th>\n",
       "      <td>68.95</td>\n",
       "      <td>35</td>\n",
       "      <td>61833.90</td>\n",
       "      <td>256.09</td>\n",
       "      <td>Cloned 5thgeneration orchestration</td>\n",
       "      <td>Wrightburgh</td>\n",
       "      <td>0</td>\n",
       "      <td>Tunisia</td>\n",
       "      <td>2016-03-27 00:53:11</td>\n",
       "      <td>0</td>\n",
       "    </tr>\n",
       "    <tr>\n",
       "      <th>1</th>\n",
       "      <td>80.23</td>\n",
       "      <td>31</td>\n",
       "      <td>68441.85</td>\n",
       "      <td>193.77</td>\n",
       "      <td>Monitored national standardization</td>\n",
       "      <td>West Jodi</td>\n",
       "      <td>1</td>\n",
       "      <td>Nauru</td>\n",
       "      <td>2016-04-04 01:39:02</td>\n",
       "      <td>0</td>\n",
       "    </tr>\n",
       "    <tr>\n",
       "      <th>2</th>\n",
       "      <td>69.47</td>\n",
       "      <td>26</td>\n",
       "      <td>59785.94</td>\n",
       "      <td>236.50</td>\n",
       "      <td>Organic bottom-line service-desk</td>\n",
       "      <td>Davidton</td>\n",
       "      <td>0</td>\n",
       "      <td>San Marino</td>\n",
       "      <td>2016-03-13 20:35:42</td>\n",
       "      <td>0</td>\n",
       "    </tr>\n",
       "    <tr>\n",
       "      <th>3</th>\n",
       "      <td>74.15</td>\n",
       "      <td>29</td>\n",
       "      <td>54806.18</td>\n",
       "      <td>245.89</td>\n",
       "      <td>Triple-buffered reciprocal time-frame</td>\n",
       "      <td>West Terrifurt</td>\n",
       "      <td>1</td>\n",
       "      <td>Italy</td>\n",
       "      <td>2016-01-10 02:31:19</td>\n",
       "      <td>0</td>\n",
       "    </tr>\n",
       "    <tr>\n",
       "      <th>4</th>\n",
       "      <td>68.37</td>\n",
       "      <td>35</td>\n",
       "      <td>73889.99</td>\n",
       "      <td>225.58</td>\n",
       "      <td>Robust logistical utilization</td>\n",
       "      <td>South Manuel</td>\n",
       "      <td>0</td>\n",
       "      <td>Iceland</td>\n",
       "      <td>2016-06-03 03:36:18</td>\n",
       "      <td>0</td>\n",
       "    </tr>\n",
       "  </tbody>\n",
       "</table>\n",
       "</div>"
      ],
      "text/plain": [
       "   Daily_Time_Spent_on_Site  Age  Area_Income  Daily_Internet_Usage  \\\n",
       "0                     68.95   35     61833.90                256.09   \n",
       "1                     80.23   31     68441.85                193.77   \n",
       "2                     69.47   26     59785.94                236.50   \n",
       "3                     74.15   29     54806.18                245.89   \n",
       "4                     68.37   35     73889.99                225.58   \n",
       "\n",
       "                           Ad_Topic_Line            City  Male     Country  \\\n",
       "0     Cloned 5thgeneration orchestration     Wrightburgh     0     Tunisia   \n",
       "1     Monitored national standardization       West Jodi     1       Nauru   \n",
       "2       Organic bottom-line service-desk        Davidton     0  San Marino   \n",
       "3  Triple-buffered reciprocal time-frame  West Terrifurt     1       Italy   \n",
       "4          Robust logistical utilization    South Manuel     0     Iceland   \n",
       "\n",
       "             Timestamp  Clicked_on_Ad  \n",
       "0  2016-03-27 00:53:11              0  \n",
       "1  2016-04-04 01:39:02              0  \n",
       "2  2016-03-13 20:35:42              0  \n",
       "3  2016-01-10 02:31:19              0  \n",
       "4  2016-06-03 03:36:18              0  "
      ]
     },
     "execution_count": 67,
     "metadata": {},
     "output_type": "execute_result"
    }
   ],
   "source": [
    "df.head()"
   ]
  },
  {
   "cell_type": "code",
   "execution_count": 68,
   "metadata": {},
   "outputs": [
    {
     "data": {
      "text/plain": [
       "Index(['Daily_Time_Spent_on_Site', 'Age', 'Area_Income',\n",
       "       'Daily_Internet_Usage', 'Ad_Topic_Line', 'City', 'Male', 'Country',\n",
       "       'Timestamp', 'Clicked_on_Ad'],\n",
       "      dtype='object')"
      ]
     },
     "execution_count": 68,
     "metadata": {},
     "output_type": "execute_result"
    }
   ],
   "source": [
    "df.columns"
   ]
  },
  {
   "cell_type": "code",
   "execution_count": 69,
   "metadata": {
    "collapsed": true
   },
   "outputs": [],
   "source": [
    "cols_normalise=['Daily_Time_Spent_on_Site','Age','Area_Income','Daily_Internet_Usage','Male']"
   ]
  },
  {
   "cell_type": "code",
   "execution_count": 70,
   "metadata": {
    "collapsed": true
   },
   "outputs": [],
   "source": [
    "df[cols_normalise]=df[cols_normalise].apply(lambda x:(x - x.min())/(x.max()-x.min()))"
   ]
  },
  {
   "cell_type": "code",
   "execution_count": 71,
   "metadata": {},
   "outputs": [
    {
     "data": {
      "text/html": [
       "<div>\n",
       "<style>\n",
       "    .dataframe thead tr:only-child th {\n",
       "        text-align: right;\n",
       "    }\n",
       "\n",
       "    .dataframe thead th {\n",
       "        text-align: left;\n",
       "    }\n",
       "\n",
       "    .dataframe tbody tr th {\n",
       "        vertical-align: top;\n",
       "    }\n",
       "</style>\n",
       "<table border=\"1\" class=\"dataframe\">\n",
       "  <thead>\n",
       "    <tr style=\"text-align: right;\">\n",
       "      <th></th>\n",
       "      <th>Daily_Time_Spent_on_Site</th>\n",
       "      <th>Age</th>\n",
       "      <th>Area_Income</th>\n",
       "      <th>Daily_Internet_Usage</th>\n",
       "      <th>Ad_Topic_Line</th>\n",
       "      <th>City</th>\n",
       "      <th>Male</th>\n",
       "      <th>Country</th>\n",
       "      <th>Timestamp</th>\n",
       "      <th>Clicked_on_Ad</th>\n",
       "    </tr>\n",
       "  </thead>\n",
       "  <tbody>\n",
       "    <tr>\n",
       "      <th>0</th>\n",
       "      <td>0.617882</td>\n",
       "      <td>0.380952</td>\n",
       "      <td>0.730472</td>\n",
       "      <td>0.916031</td>\n",
       "      <td>Cloned 5thgeneration orchestration</td>\n",
       "      <td>Wrightburgh</td>\n",
       "      <td>0.0</td>\n",
       "      <td>Tunisia</td>\n",
       "      <td>2016-03-27 00:53:11</td>\n",
       "      <td>0</td>\n",
       "    </tr>\n",
       "    <tr>\n",
       "      <th>1</th>\n",
       "      <td>0.809621</td>\n",
       "      <td>0.285714</td>\n",
       "      <td>0.831375</td>\n",
       "      <td>0.538746</td>\n",
       "      <td>Monitored national standardization</td>\n",
       "      <td>West Jodi</td>\n",
       "      <td>1.0</td>\n",
       "      <td>Nauru</td>\n",
       "      <td>2016-04-04 01:39:02</td>\n",
       "      <td>0</td>\n",
       "    </tr>\n",
       "    <tr>\n",
       "      <th>2</th>\n",
       "      <td>0.626721</td>\n",
       "      <td>0.166667</td>\n",
       "      <td>0.699200</td>\n",
       "      <td>0.797433</td>\n",
       "      <td>Organic bottom-line service-desk</td>\n",
       "      <td>Davidton</td>\n",
       "      <td>0.0</td>\n",
       "      <td>San Marino</td>\n",
       "      <td>2016-03-13 20:35:42</td>\n",
       "      <td>0</td>\n",
       "    </tr>\n",
       "    <tr>\n",
       "      <th>3</th>\n",
       "      <td>0.706272</td>\n",
       "      <td>0.238095</td>\n",
       "      <td>0.623160</td>\n",
       "      <td>0.854280</td>\n",
       "      <td>Triple-buffered reciprocal time-frame</td>\n",
       "      <td>West Terrifurt</td>\n",
       "      <td>1.0</td>\n",
       "      <td>Italy</td>\n",
       "      <td>2016-01-10 02:31:19</td>\n",
       "      <td>0</td>\n",
       "    </tr>\n",
       "    <tr>\n",
       "      <th>4</th>\n",
       "      <td>0.608023</td>\n",
       "      <td>0.380952</td>\n",
       "      <td>0.914568</td>\n",
       "      <td>0.731323</td>\n",
       "      <td>Robust logistical utilization</td>\n",
       "      <td>South Manuel</td>\n",
       "      <td>0.0</td>\n",
       "      <td>Iceland</td>\n",
       "      <td>2016-06-03 03:36:18</td>\n",
       "      <td>0</td>\n",
       "    </tr>\n",
       "  </tbody>\n",
       "</table>\n",
       "</div>"
      ],
      "text/plain": [
       "   Daily_Time_Spent_on_Site       Age  Area_Income  Daily_Internet_Usage  \\\n",
       "0                  0.617882  0.380952     0.730472              0.916031   \n",
       "1                  0.809621  0.285714     0.831375              0.538746   \n",
       "2                  0.626721  0.166667     0.699200              0.797433   \n",
       "3                  0.706272  0.238095     0.623160              0.854280   \n",
       "4                  0.608023  0.380952     0.914568              0.731323   \n",
       "\n",
       "                           Ad_Topic_Line            City  Male     Country  \\\n",
       "0     Cloned 5thgeneration orchestration     Wrightburgh   0.0     Tunisia   \n",
       "1     Monitored national standardization       West Jodi   1.0       Nauru   \n",
       "2       Organic bottom-line service-desk        Davidton   0.0  San Marino   \n",
       "3  Triple-buffered reciprocal time-frame  West Terrifurt   1.0       Italy   \n",
       "4          Robust logistical utilization    South Manuel   0.0     Iceland   \n",
       "\n",
       "             Timestamp  Clicked_on_Ad  \n",
       "0  2016-03-27 00:53:11              0  \n",
       "1  2016-04-04 01:39:02              0  \n",
       "2  2016-03-13 20:35:42              0  \n",
       "3  2016-01-10 02:31:19              0  \n",
       "4  2016-06-03 03:36:18              0  "
      ]
     },
     "execution_count": 71,
     "metadata": {},
     "output_type": "execute_result"
    }
   ],
   "source": [
    "df.head()"
   ]
  },
  {
   "cell_type": "code",
   "execution_count": 72,
   "metadata": {
    "collapsed": true
   },
   "outputs": [],
   "source": [
    "x=df[['Daily_Time_Spent_on_Site','Age','Area_Income','Daily_Internet_Usage','Male']]\n",
    "y=df['Clicked_on_Ad']"
   ]
  },
  {
   "cell_type": "code",
   "execution_count": 73,
   "metadata": {
    "collapsed": true
   },
   "outputs": [],
   "source": [
    "from sklearn.model_selection import train_test_split"
   ]
  },
  {
   "cell_type": "code",
   "execution_count": 74,
   "metadata": {
    "collapsed": true
   },
   "outputs": [],
   "source": [
    "xtrain,xtest,ytrain,ytest=train_test_split(x,y,test_size=0.3,random_state=101)"
   ]
  },
  {
   "cell_type": "code",
   "execution_count": 75,
   "metadata": {
    "collapsed": true
   },
   "outputs": [],
   "source": [
    "import tensorflow as tf\n"
   ]
  },
  {
   "cell_type": "code",
   "execution_count": 76,
   "metadata": {
    "collapsed": true
   },
   "outputs": [],
   "source": [
    "time_spent=tf.feature_column.numeric_column('Daily_Time_Spent_on_Site')\n",
    "age=tf.feature_column.numeric_column('Age')\n",
    "income=tf.feature_column.numeric_column('Area_Income')\n",
    "internet_usage=tf.feature_column.numeric_column('Daily_Internet_Usage')\n",
    "male=tf.feature_column.numeric_column('Male')"
   ]
  },
  {
   "cell_type": "code",
   "execution_count": 79,
   "metadata": {
    "collapsed": true
   },
   "outputs": [],
   "source": [
    "feat_cols=[time_spent,age,income,internet_usage,male]"
   ]
  },
  {
   "cell_type": "code",
   "execution_count": 80,
   "metadata": {
    "collapsed": true
   },
   "outputs": [],
   "source": [
    "#saver=tf.train.Saver"
   ]
  },
  {
   "cell_type": "code",
   "execution_count": 81,
   "metadata": {
    "collapsed": true
   },
   "outputs": [],
   "source": [
    "train_input_fn=tf.estimator.inputs.pandas_input_fn(x=xtrain,y=ytrain,batch_size=20,num_epochs=None,shuffle=True)"
   ]
  },
  {
   "cell_type": "code",
   "execution_count": 82,
   "metadata": {},
   "outputs": [
    {
     "name": "stdout",
     "output_type": "stream",
     "text": [
      "INFO:tensorflow:Using default config.\n",
      "WARNING:tensorflow:Using temporary folder as model directory: C:\\Users\\alpha\\AppData\\Local\\Temp\\tmpvohhi4ms\n",
      "INFO:tensorflow:Using config: {'_keep_checkpoint_max': 5, '_save_summary_steps': 100, '_keep_checkpoint_every_n_hours': 10000, '_tf_random_seed': 1, '_save_checkpoints_steps': None, '_model_dir': 'C:\\\\Users\\\\alpha\\\\AppData\\\\Local\\\\Temp\\\\tmpvohhi4ms', '_save_checkpoints_secs': 600, '_log_step_count_steps': 100, '_session_config': None}\n"
     ]
    }
   ],
   "source": [
    "model=tf.estimator.DNNClassifier(hidden_units=[6,6,6],feature_columns=feat_cols,n_classes=2)"
   ]
  },
  {
   "cell_type": "code",
   "execution_count": 83,
   "metadata": {},
   "outputs": [
    {
     "name": "stdout",
     "output_type": "stream",
     "text": [
      "INFO:tensorflow:Create CheckpointSaverHook.\n",
      "INFO:tensorflow:Saving checkpoints for 1 into C:\\Users\\alpha\\AppData\\Local\\Temp\\tmpvohhi4ms\\model.ckpt.\n",
      "INFO:tensorflow:step = 1, loss = 14.0579\n",
      "INFO:tensorflow:global_step/sec: 238.51\n",
      "INFO:tensorflow:step = 101, loss = 1.45757 (0.435 sec)\n",
      "INFO:tensorflow:global_step/sec: 290.81\n",
      "INFO:tensorflow:step = 201, loss = 0.523983 (0.287 sec)\n",
      "INFO:tensorflow:global_step/sec: 331.001\n",
      "INFO:tensorflow:step = 301, loss = 1.73707 (0.328 sec)\n",
      "INFO:tensorflow:global_step/sec: 324.979\n",
      "INFO:tensorflow:step = 401, loss = 5.39767 (0.297 sec)\n",
      "INFO:tensorflow:global_step/sec: 317.027\n",
      "INFO:tensorflow:step = 501, loss = 0.602739 (0.312 sec)\n",
      "INFO:tensorflow:global_step/sec: 340.272\n",
      "INFO:tensorflow:step = 601, loss = 4.01171 (0.322 sec)\n",
      "INFO:tensorflow:global_step/sec: 320.064\n",
      "INFO:tensorflow:step = 701, loss = 2.86434 (0.297 sec)\n",
      "INFO:tensorflow:global_step/sec: 355.992\n",
      "INFO:tensorflow:step = 801, loss = 1.30221 (0.297 sec)\n",
      "INFO:tensorflow:global_step/sec: 336.718\n",
      "INFO:tensorflow:step = 901, loss = 0.537834 (0.296 sec)\n",
      "INFO:tensorflow:global_step/sec: 319.557\n",
      "INFO:tensorflow:step = 1001, loss = 6.57724 (0.302 sec)\n",
      "INFO:tensorflow:global_step/sec: 319.158\n",
      "INFO:tensorflow:step = 1101, loss = 0.271184 (0.312 sec)\n",
      "INFO:tensorflow:global_step/sec: 337.676\n",
      "INFO:tensorflow:step = 1201, loss = 0.877014 (0.301 sec)\n",
      "INFO:tensorflow:global_step/sec: 316.084\n",
      "INFO:tensorflow:step = 1301, loss = 5.46047 (0.296 sec)\n",
      "INFO:tensorflow:global_step/sec: 331.754\n",
      "INFO:tensorflow:step = 1401, loss = 1.07998 (0.302 sec)\n",
      "INFO:tensorflow:global_step/sec: 313.466\n",
      "INFO:tensorflow:step = 1501, loss = 4.27219 (0.336 sec)\n",
      "INFO:tensorflow:global_step/sec: 319.919\n",
      "INFO:tensorflow:step = 1601, loss = 0.631867 (0.314 sec)\n",
      "INFO:tensorflow:global_step/sec: 319.441\n",
      "INFO:tensorflow:step = 1701, loss = 2.83942 (0.319 sec)\n",
      "INFO:tensorflow:global_step/sec: 336.934\n",
      "INFO:tensorflow:step = 1801, loss = 0.436092 (0.298 sec)\n",
      "INFO:tensorflow:global_step/sec: 319.811\n",
      "INFO:tensorflow:step = 1901, loss = 0.820153 (0.306 sec)\n",
      "INFO:tensorflow:global_step/sec: 337.61\n",
      "INFO:tensorflow:step = 2001, loss = 1.73848 (0.313 sec)\n",
      "INFO:tensorflow:global_step/sec: 290.406\n",
      "INFO:tensorflow:step = 2101, loss = 1.34466 (0.335 sec)\n",
      "INFO:tensorflow:global_step/sec: 257.227\n",
      "INFO:tensorflow:step = 2201, loss = 0.375845 (0.380 sec)\n",
      "INFO:tensorflow:global_step/sec: 303.605\n",
      "INFO:tensorflow:step = 2301, loss = 0.464424 (0.339 sec)\n",
      "INFO:tensorflow:global_step/sec: 319.317\n",
      "INFO:tensorflow:step = 2401, loss = 0.612415 (0.311 sec)\n",
      "INFO:tensorflow:global_step/sec: 336.833\n",
      "INFO:tensorflow:step = 2501, loss = 4.68686 (0.302 sec)\n",
      "INFO:tensorflow:global_step/sec: 278.28\n",
      "INFO:tensorflow:step = 2601, loss = 5.49409 (0.396 sec)\n",
      "INFO:tensorflow:global_step/sec: 266.815\n",
      "INFO:tensorflow:step = 2701, loss = 1.92666 (0.325 sec)\n",
      "INFO:tensorflow:global_step/sec: 319.61\n",
      "INFO:tensorflow:step = 2801, loss = 0.560847 (0.321 sec)\n",
      "INFO:tensorflow:global_step/sec: 320.687\n",
      "INFO:tensorflow:step = 2901, loss = 1.37111 (0.319 sec)\n",
      "INFO:tensorflow:global_step/sec: 304.197\n",
      "INFO:tensorflow:step = 3001, loss = 5.23028 (0.316 sec)\n",
      "INFO:tensorflow:global_step/sec: 337.686\n",
      "INFO:tensorflow:step = 3101, loss = 1.85866 (0.309 sec)\n",
      "INFO:tensorflow:global_step/sec: 304.764\n",
      "INFO:tensorflow:step = 3201, loss = 0.269169 (0.318 sec)\n",
      "INFO:tensorflow:global_step/sec: 304.774\n",
      "INFO:tensorflow:step = 3301, loss = 5.68359 (0.324 sec)\n",
      "INFO:tensorflow:global_step/sec: 336.635\n",
      "INFO:tensorflow:step = 3401, loss = 1.40241 (0.311 sec)\n",
      "INFO:tensorflow:global_step/sec: 304.328\n",
      "INFO:tensorflow:step = 3501, loss = 0.824486 (0.315 sec)\n",
      "INFO:tensorflow:global_step/sec: 320.534\n",
      "INFO:tensorflow:step = 3601, loss = 6.24955 (0.333 sec)\n",
      "INFO:tensorflow:global_step/sec: 304.014\n",
      "INFO:tensorflow:step = 3701, loss = 12.8505 (0.315 sec)\n",
      "INFO:tensorflow:global_step/sec: 305.106\n",
      "INFO:tensorflow:step = 3801, loss = 0.802863 (0.327 sec)\n",
      "INFO:tensorflow:global_step/sec: 304.622\n",
      "INFO:tensorflow:step = 3901, loss = 0.380189 (0.326 sec)\n",
      "INFO:tensorflow:global_step/sec: 320.262\n",
      "INFO:tensorflow:step = 4001, loss = 6.52211 (0.315 sec)\n",
      "INFO:tensorflow:global_step/sec: 319.73\n",
      "INFO:tensorflow:step = 4101, loss = 1.94947 (0.314 sec)\n",
      "INFO:tensorflow:global_step/sec: 320.114\n",
      "INFO:tensorflow:step = 4201, loss = 0.328371 (0.330 sec)\n",
      "INFO:tensorflow:global_step/sec: 274.69\n",
      "INFO:tensorflow:step = 4301, loss = 0.279016 (0.325 sec)\n",
      "INFO:tensorflow:global_step/sec: 342.586\n",
      "INFO:tensorflow:step = 4401, loss = 0.779851 (0.321 sec)\n",
      "INFO:tensorflow:global_step/sec: 290.185\n",
      "INFO:tensorflow:step = 4501, loss = 2.09971 (0.336 sec)\n",
      "INFO:tensorflow:global_step/sec: 320.526\n",
      "INFO:tensorflow:step = 4601, loss = 3.48039 (0.323 sec)\n",
      "INFO:tensorflow:global_step/sec: 283.869\n",
      "INFO:tensorflow:step = 4701, loss = 0.32344 (0.322 sec)\n",
      "INFO:tensorflow:global_step/sec: 313.04\n",
      "INFO:tensorflow:step = 4801, loss = 3.57467 (0.338 sec)\n",
      "INFO:tensorflow:global_step/sec: 304.701\n",
      "INFO:tensorflow:step = 4901, loss = 0.692889 (0.329 sec)\n",
      "INFO:tensorflow:global_step/sec: 304.683\n",
      "INFO:tensorflow:step = 5001, loss = 3.10958 (0.331 sec)\n",
      "INFO:tensorflow:global_step/sec: 304.809\n",
      "INFO:tensorflow:step = 5101, loss = 0.363211 (0.334 sec)\n",
      "INFO:tensorflow:global_step/sec: 290.442\n",
      "INFO:tensorflow:step = 5201, loss = 0.359481 (0.334 sec)\n",
      "INFO:tensorflow:global_step/sec: 278.629\n",
      "INFO:tensorflow:step = 5301, loss = 4.84308 (0.348 sec)\n",
      "INFO:tensorflow:global_step/sec: 291.411\n",
      "INFO:tensorflow:step = 5401, loss = 2.21322 (0.352 sec)\n",
      "INFO:tensorflow:global_step/sec: 297.159\n",
      "INFO:tensorflow:step = 5501, loss = 0.390677 (0.311 sec)\n",
      "INFO:tensorflow:global_step/sec: 346.508\n",
      "INFO:tensorflow:step = 5601, loss = 2.778 (0.324 sec)\n",
      "INFO:tensorflow:global_step/sec: 280.767\n",
      "INFO:tensorflow:step = 5701, loss = 0.723961 (0.348 sec)\n",
      "INFO:tensorflow:global_step/sec: 301.839\n",
      "INFO:tensorflow:step = 5801, loss = 4.96804 (0.360 sec)\n",
      "INFO:tensorflow:global_step/sec: 290.873\n",
      "INFO:tensorflow:step = 5901, loss = 1.54512 (0.331 sec)\n",
      "INFO:tensorflow:global_step/sec: 278.29\n",
      "INFO:tensorflow:step = 6001, loss = 4.53427 (0.351 sec)\n",
      "INFO:tensorflow:global_step/sec: 290.61\n",
      "INFO:tensorflow:step = 6101, loss = 0.530092 (0.342 sec)\n",
      "INFO:tensorflow:global_step/sec: 290.719\n",
      "INFO:tensorflow:step = 6201, loss = 0.690961 (0.340 sec)\n",
      "INFO:tensorflow:global_step/sec: 314.552\n",
      "INFO:tensorflow:step = 6301, loss = 1.39608 (0.287 sec)\n",
      "INFO:tensorflow:global_step/sec: 307.625\n",
      "INFO:tensorflow:step = 6401, loss = 0.177189 (0.341 sec)\n",
      "INFO:tensorflow:global_step/sec: 290.477\n",
      "INFO:tensorflow:step = 6501, loss = 2.03036 (0.330 sec)\n",
      "INFO:tensorflow:global_step/sec: 326.16\n",
      "INFO:tensorflow:step = 6601, loss = 0.846482 (0.314 sec)\n",
      "INFO:tensorflow:global_step/sec: 327.339\n",
      "INFO:tensorflow:step = 6701, loss = 0.294334 (0.298 sec)\n",
      "INFO:tensorflow:global_step/sec: 326.056\n",
      "INFO:tensorflow:step = 6801, loss = 2.97087 (0.343 sec)\n",
      "INFO:tensorflow:global_step/sec: 288.229\n",
      "INFO:tensorflow:step = 6901, loss = 7.55207 (0.345 sec)\n",
      "INFO:tensorflow:global_step/sec: 317.381\n",
      "INFO:tensorflow:step = 7001, loss = 1.80213 (0.281 sec)\n",
      "INFO:tensorflow:global_step/sec: 307.419\n",
      "INFO:tensorflow:step = 7101, loss = 9.07497 (0.325 sec)\n",
      "INFO:tensorflow:global_step/sec: 302.796\n",
      "INFO:tensorflow:step = 7201, loss = 0.544068 (0.330 sec)\n",
      "INFO:tensorflow:global_step/sec: 329.354\n",
      "INFO:tensorflow:step = 7301, loss = 1.05919 (0.312 sec)\n",
      "INFO:tensorflow:global_step/sec: 347.419\n",
      "INFO:tensorflow:step = 7401, loss = 1.04694 (0.280 sec)\n",
      "INFO:tensorflow:global_step/sec: 292.762\n",
      "INFO:tensorflow:step = 7501, loss = 1.67452 (0.377 sec)\n",
      "INFO:tensorflow:global_step/sec: 287.282\n",
      "INFO:tensorflow:step = 7601, loss = 0.57206 (0.313 sec)\n",
      "INFO:tensorflow:global_step/sec: 342.66\n",
      "INFO:tensorflow:step = 7701, loss = 0.946934 (0.329 sec)\n",
      "INFO:tensorflow:global_step/sec: 272.161\n",
      "INFO:tensorflow:step = 7801, loss = 8.97745 (0.364 sec)\n",
      "INFO:tensorflow:global_step/sec: 286.224\n",
      "INFO:tensorflow:step = 7901, loss = 1.35583 (0.316 sec)\n",
      "INFO:tensorflow:global_step/sec: 327.134\n",
      "INFO:tensorflow:step = 8001, loss = 5.48593 (0.305 sec)\n",
      "INFO:tensorflow:global_step/sec: 342.503\n",
      "INFO:tensorflow:step = 8101, loss = 0.38021 (0.293 sec)\n",
      "INFO:tensorflow:global_step/sec: 288.158\n",
      "INFO:tensorflow:step = 8201, loss = 1.22298 (0.392 sec)\n",
      "INFO:tensorflow:global_step/sec: 270.672\n",
      "INFO:tensorflow:step = 8301, loss = 5.3985 (0.382 sec)\n"
     ]
    },
    {
     "name": "stdout",
     "output_type": "stream",
     "text": [
      "INFO:tensorflow:global_step/sec: 266.219\n",
      "INFO:tensorflow:step = 8401, loss = 6.01272 (0.343 sec)\n",
      "INFO:tensorflow:global_step/sec: 278.301\n",
      "INFO:tensorflow:step = 8501, loss = 1.0067 (0.327 sec)\n",
      "INFO:tensorflow:global_step/sec: 320.071\n",
      "INFO:tensorflow:step = 8601, loss = 2.65104 (0.333 sec)\n",
      "INFO:tensorflow:global_step/sec: 304.787\n",
      "INFO:tensorflow:step = 8701, loss = 0.3608 (0.323 sec)\n",
      "INFO:tensorflow:global_step/sec: 336.354\n",
      "INFO:tensorflow:step = 8801, loss = 0.328458 (0.318 sec)\n",
      "INFO:tensorflow:global_step/sec: 304.902\n",
      "INFO:tensorflow:step = 8901, loss = 0.521305 (0.307 sec)\n",
      "INFO:tensorflow:global_step/sec: 337.199\n",
      "INFO:tensorflow:step = 9001, loss = 2.6506 (0.313 sec)\n",
      "INFO:tensorflow:global_step/sec: 304.892\n",
      "INFO:tensorflow:step = 9101, loss = 1.53327 (0.325 sec)\n",
      "INFO:tensorflow:global_step/sec: 319.617\n",
      "INFO:tensorflow:step = 9201, loss = 1.42027 (0.313 sec)\n",
      "INFO:tensorflow:global_step/sec: 305.358\n",
      "INFO:tensorflow:step = 9301, loss = 0.483322 (0.309 sec)\n",
      "INFO:tensorflow:global_step/sec: 354.984\n",
      "INFO:tensorflow:step = 9401, loss = 1.40831 (0.298 sec)\n",
      "INFO:tensorflow:global_step/sec: 319.928\n",
      "INFO:tensorflow:step = 9501, loss = 0.891907 (0.317 sec)\n",
      "INFO:tensorflow:global_step/sec: 319.61\n",
      "INFO:tensorflow:step = 9601, loss = 0.762948 (0.312 sec)\n",
      "INFO:tensorflow:global_step/sec: 320.655\n",
      "INFO:tensorflow:step = 9701, loss = 0.851467 (0.309 sec)\n",
      "INFO:tensorflow:global_step/sec: 320.184\n",
      "INFO:tensorflow:step = 9801, loss = 1.65034 (0.313 sec)\n",
      "INFO:tensorflow:global_step/sec: 320.021\n",
      "INFO:tensorflow:step = 9901, loss = 0.887401 (0.303 sec)\n",
      "INFO:tensorflow:global_step/sec: 320.064\n",
      "INFO:tensorflow:step = 10001, loss = 4.94574 (0.294 sec)\n",
      "INFO:tensorflow:global_step/sec: 375.464\n",
      "INFO:tensorflow:step = 10101, loss = 3.12304 (0.300 sec)\n",
      "INFO:tensorflow:global_step/sec: 291.458\n",
      "INFO:tensorflow:step = 10201, loss = 1.93248 (0.342 sec)\n",
      "INFO:tensorflow:global_step/sec: 319.95\n",
      "INFO:tensorflow:step = 10301, loss = 0.975629 (0.313 sec)\n",
      "INFO:tensorflow:global_step/sec: 336.746\n",
      "INFO:tensorflow:step = 10401, loss = 0.223347 (0.299 sec)\n",
      "INFO:tensorflow:global_step/sec: 336.896\n",
      "INFO:tensorflow:step = 10501, loss = 5.97435 (0.291 sec)\n",
      "INFO:tensorflow:global_step/sec: 354.848\n",
      "INFO:tensorflow:step = 10601, loss = 1.01517 (0.292 sec)\n",
      "INFO:tensorflow:global_step/sec: 337.063\n",
      "INFO:tensorflow:step = 10701, loss = 0.199719 (0.292 sec)\n",
      "INFO:tensorflow:global_step/sec: 319.893\n",
      "INFO:tensorflow:step = 10801, loss = 0.329844 (0.310 sec)\n",
      "INFO:tensorflow:global_step/sec: 337.441\n",
      "INFO:tensorflow:step = 10901, loss = 1.81048 (0.305 sec)\n",
      "INFO:tensorflow:global_step/sec: 304.76\n",
      "INFO:tensorflow:step = 11001, loss = 0.201407 (0.314 sec)\n",
      "INFO:tensorflow:global_step/sec: 336.97\n",
      "INFO:tensorflow:step = 11101, loss = 0.907482 (0.311 sec)\n",
      "INFO:tensorflow:global_step/sec: 336.086\n",
      "INFO:tensorflow:step = 11201, loss = 6.06355 (0.294 sec)\n",
      "INFO:tensorflow:global_step/sec: 337.533\n",
      "INFO:tensorflow:step = 11301, loss = 1.26614 (0.296 sec)\n",
      "INFO:tensorflow:global_step/sec: 336.555\n",
      "INFO:tensorflow:step = 11401, loss = 1.83281 (0.298 sec)\n",
      "INFO:tensorflow:global_step/sec: 337.028\n",
      "INFO:tensorflow:step = 11501, loss = 2.35585 (0.295 sec)\n",
      "INFO:tensorflow:global_step/sec: 336.259\n",
      "INFO:tensorflow:step = 11601, loss = 1.40729 (0.297 sec)\n",
      "INFO:tensorflow:global_step/sec: 336.547\n",
      "INFO:tensorflow:step = 11701, loss = 6.72222 (0.304 sec)\n",
      "INFO:tensorflow:global_step/sec: 256.56\n",
      "INFO:tensorflow:step = 11801, loss = 0.284819 (0.381 sec)\n",
      "INFO:tensorflow:global_step/sec: 304.738\n",
      "INFO:tensorflow:step = 11901, loss = 2.32479 (0.333 sec)\n",
      "INFO:tensorflow:global_step/sec: 277.979\n",
      "INFO:tensorflow:step = 12001, loss = 5.16524 (0.364 sec)\n",
      "INFO:tensorflow:global_step/sec: 290.666\n",
      "INFO:tensorflow:step = 12101, loss = 1.68022 (0.334 sec)\n",
      "INFO:tensorflow:global_step/sec: 278.583\n",
      "INFO:tensorflow:step = 12201, loss = 0.260194 (0.371 sec)\n",
      "INFO:tensorflow:global_step/sec: 290.554\n",
      "INFO:tensorflow:step = 12301, loss = 1.15724 (0.339 sec)\n",
      "INFO:tensorflow:global_step/sec: 267.134\n",
      "INFO:tensorflow:step = 12401, loss = 0.945442 (0.368 sec)\n",
      "INFO:tensorflow:global_step/sec: 304.294\n",
      "INFO:tensorflow:step = 12501, loss = 0.376719 (0.331 sec)\n",
      "INFO:tensorflow:global_step/sec: 337.438\n",
      "INFO:tensorflow:step = 12601, loss = 0.363591 (0.303 sec)\n",
      "INFO:tensorflow:global_step/sec: 319.542\n",
      "INFO:tensorflow:step = 12701, loss = 0.846988 (0.305 sec)\n",
      "INFO:tensorflow:global_step/sec: 336.753\n",
      "INFO:tensorflow:step = 12801, loss = 1.39139 (0.310 sec)\n",
      "INFO:tensorflow:global_step/sec: 319.93\n",
      "INFO:tensorflow:step = 12901, loss = 1.12445 (0.312 sec)\n",
      "INFO:tensorflow:global_step/sec: 319.952\n",
      "INFO:tensorflow:step = 13001, loss = 0.431477 (0.307 sec)\n",
      "INFO:tensorflow:global_step/sec: 320.584\n",
      "INFO:tensorflow:step = 13101, loss = 1.87262 (0.310 sec)\n",
      "INFO:tensorflow:global_step/sec: 319.943\n",
      "INFO:tensorflow:step = 13201, loss = 0.931119 (0.318 sec)\n",
      "INFO:tensorflow:global_step/sec: 319.609\n",
      "INFO:tensorflow:step = 13301, loss = 0.970173 (0.309 sec)\n",
      "INFO:tensorflow:global_step/sec: 320.341\n",
      "INFO:tensorflow:step = 13401, loss = 0.521126 (0.310 sec)\n",
      "INFO:tensorflow:global_step/sec: 320.021\n",
      "INFO:tensorflow:step = 13501, loss = 1.50559 (0.318 sec)\n",
      "INFO:tensorflow:global_step/sec: 319.613\n",
      "INFO:tensorflow:step = 13601, loss = 0.706675 (0.313 sec)\n",
      "INFO:tensorflow:global_step/sec: 320.492\n",
      "INFO:tensorflow:step = 13701, loss = 0.50798 (0.310 sec)\n",
      "INFO:tensorflow:global_step/sec: 319.685\n",
      "INFO:tensorflow:step = 13801, loss = 0.292684 (0.315 sec)\n",
      "INFO:tensorflow:global_step/sec: 304.934\n",
      "INFO:tensorflow:step = 13901, loss = 1.084 (0.332 sec)\n",
      "INFO:tensorflow:global_step/sec: 304.35\n",
      "INFO:tensorflow:step = 14001, loss = 4.1963 (0.318 sec)\n",
      "INFO:tensorflow:global_step/sec: 297.082\n",
      "INFO:tensorflow:step = 14101, loss = 0.517661 (0.310 sec)\n",
      "INFO:tensorflow:global_step/sec: 346.744\n",
      "INFO:tensorflow:step = 14201, loss = 0.579724 (0.327 sec)\n",
      "INFO:tensorflow:global_step/sec: 304.281\n",
      "INFO:tensorflow:step = 14301, loss = 0.269966 (0.323 sec)\n",
      "INFO:tensorflow:global_step/sec: 304.857\n",
      "INFO:tensorflow:step = 14401, loss = 1.48673 (0.329 sec)\n",
      "INFO:tensorflow:global_step/sec: 305.481\n",
      "INFO:tensorflow:step = 14501, loss = 1.17907 (0.330 sec)\n",
      "INFO:tensorflow:global_step/sec: 304.879\n",
      "INFO:tensorflow:step = 14601, loss = 1.96137 (0.340 sec)\n",
      "INFO:tensorflow:global_step/sec: 277.598\n",
      "INFO:tensorflow:step = 14701, loss = 0.610151 (0.309 sec)\n",
      "INFO:tensorflow:global_step/sec: 285.799\n",
      "INFO:tensorflow:step = 14801, loss = 1.27306 (0.350 sec)\n",
      "INFO:tensorflow:global_step/sec: 312.916\n",
      "INFO:tensorflow:step = 14901, loss = 0.715778 (0.357 sec)\n",
      "INFO:tensorflow:global_step/sec: 289.244\n",
      "INFO:tensorflow:step = 15001, loss = 0.774721 (0.308 sec)\n",
      "INFO:tensorflow:global_step/sec: 304.767\n",
      "INFO:tensorflow:step = 15101, loss = 4.43239 (0.358 sec)\n",
      "INFO:tensorflow:global_step/sec: 291.224\n",
      "INFO:tensorflow:step = 15201, loss = 2.3396 (0.351 sec)\n",
      "INFO:tensorflow:global_step/sec: 283.435\n",
      "INFO:tensorflow:step = 15301, loss = 0.45683 (0.315 sec)\n",
      "INFO:tensorflow:global_step/sec: 329.113\n",
      "INFO:tensorflow:step = 15401, loss = 4.33572 (0.364 sec)\n",
      "INFO:tensorflow:global_step/sec: 259.458\n",
      "INFO:tensorflow:step = 15501, loss = 0.59889 (0.325 sec)\n",
      "INFO:tensorflow:global_step/sec: 302.724\n",
      "INFO:tensorflow:step = 15601, loss = 0.345336 (0.371 sec)\n",
      "INFO:tensorflow:global_step/sec: 279.794\n",
      "INFO:tensorflow:step = 15701, loss = 0.423361 (0.318 sec)\n",
      "INFO:tensorflow:global_step/sec: 331.463\n",
      "INFO:tensorflow:step = 15801, loss = 4.95119 (0.348 sec)\n",
      "INFO:tensorflow:global_step/sec: 282.183\n",
      "INFO:tensorflow:step = 15901, loss = 0.976001 (0.308 sec)\n",
      "INFO:tensorflow:global_step/sec: 349.821\n",
      "INFO:tensorflow:step = 16001, loss = 0.126924 (0.332 sec)\n",
      "INFO:tensorflow:global_step/sec: 296.572\n",
      "INFO:tensorflow:step = 16101, loss = 0.437772 (0.307 sec)\n",
      "INFO:tensorflow:global_step/sec: 302.616\n",
      "INFO:tensorflow:step = 16201, loss = 5.36298 (0.313 sec)\n",
      "INFO:tensorflow:global_step/sec: 344.301\n",
      "INFO:tensorflow:step = 16301, loss = 2.07728 (0.290 sec)\n",
      "INFO:tensorflow:global_step/sec: 355.288\n",
      "INFO:tensorflow:step = 16401, loss = 0.865673 (0.283 sec)\n",
      "INFO:tensorflow:global_step/sec: 312.909\n",
      "INFO:tensorflow:step = 16501, loss = 4.50564 (0.319 sec)\n",
      "INFO:tensorflow:global_step/sec: 308.417\n",
      "INFO:tensorflow:step = 16601, loss = 4.23118 (0.325 sec)\n",
      "INFO:tensorflow:global_step/sec: 323.274\n",
      "INFO:tensorflow:step = 16701, loss = 0.44992 (0.309 sec)\n"
     ]
    },
    {
     "name": "stdout",
     "output_type": "stream",
     "text": [
      "INFO:tensorflow:global_step/sec: 357.935\n",
      "INFO:tensorflow:step = 16801, loss = 1.61122 (0.299 sec)\n",
      "INFO:tensorflow:global_step/sec: 322.68\n",
      "INFO:tensorflow:step = 16901, loss = 0.93131 (0.292 sec)\n",
      "INFO:tensorflow:global_step/sec: 377.297\n",
      "INFO:tensorflow:step = 17001, loss = 3.45183 (0.299 sec)\n",
      "INFO:tensorflow:global_step/sec: 355.252\n",
      "INFO:tensorflow:step = 17101, loss = 1.27472 (0.239 sec)\n",
      "INFO:tensorflow:global_step/sec: 426.132\n",
      "INFO:tensorflow:step = 17201, loss = 0.825598 (0.250 sec)\n",
      "INFO:tensorflow:global_step/sec: 374.14\n",
      "INFO:tensorflow:step = 17301, loss = 0.621661 (0.257 sec)\n",
      "INFO:tensorflow:global_step/sec: 352.796\n",
      "INFO:tensorflow:step = 17401, loss = 1.44204 (0.306 sec)\n",
      "INFO:tensorflow:global_step/sec: 308.466\n",
      "INFO:tensorflow:step = 17501, loss = 1.43459 (0.297 sec)\n",
      "INFO:tensorflow:global_step/sec: 427.505\n",
      "INFO:tensorflow:step = 17601, loss = 3.60474 (0.251 sec)\n",
      "INFO:tensorflow:global_step/sec: 375.81\n",
      "INFO:tensorflow:step = 17701, loss = 0.781974 (0.249 sec)\n",
      "INFO:tensorflow:global_step/sec: 400.583\n",
      "INFO:tensorflow:step = 17801, loss = 4.62909 (0.261 sec)\n",
      "INFO:tensorflow:global_step/sec: 399.488\n",
      "INFO:tensorflow:step = 17901, loss = 4.5905 (0.239 sec)\n",
      "INFO:tensorflow:global_step/sec: 427.344\n",
      "INFO:tensorflow:step = 18001, loss = 11.84 (0.250 sec)\n",
      "INFO:tensorflow:global_step/sec: 399.301\n",
      "INFO:tensorflow:step = 18101, loss = 3.67147 (0.234 sec)\n",
      "INFO:tensorflow:global_step/sec: 427.707\n",
      "INFO:tensorflow:step = 18201, loss = 0.48185 (0.234 sec)\n",
      "INFO:tensorflow:global_step/sec: 426.449\n",
      "INFO:tensorflow:step = 18301, loss = 1.15419 (0.234 sec)\n",
      "INFO:tensorflow:global_step/sec: 425.12\n",
      "INFO:tensorflow:step = 18401, loss = 0.242411 (0.250 sec)\n",
      "INFO:tensorflow:global_step/sec: 401.187\n",
      "INFO:tensorflow:step = 18501, loss = 0.984686 (0.235 sec)\n",
      "INFO:tensorflow:global_step/sec: 426.495\n",
      "INFO:tensorflow:step = 18601, loss = 1.4196 (0.234 sec)\n",
      "INFO:tensorflow:global_step/sec: 426.093\n",
      "INFO:tensorflow:step = 18701, loss = 1.29261 (0.235 sec)\n",
      "INFO:tensorflow:global_step/sec: 400.951\n",
      "INFO:tensorflow:step = 18801, loss = 1.13164 (0.249 sec)\n",
      "INFO:tensorflow:global_step/sec: 387.934\n",
      "INFO:tensorflow:step = 18901, loss = 2.09876 (0.264 sec)\n",
      "INFO:tensorflow:global_step/sec: 412.712\n",
      "INFO:tensorflow:step = 19001, loss = 9.0261 (0.236 sec)\n",
      "INFO:tensorflow:global_step/sec: 399.224\n",
      "INFO:tensorflow:step = 19101, loss = 3.36611 (0.256 sec)\n",
      "INFO:tensorflow:global_step/sec: 400.861\n",
      "INFO:tensorflow:step = 19201, loss = 0.638615 (0.244 sec)\n",
      "INFO:tensorflow:global_step/sec: 398.234\n",
      "INFO:tensorflow:step = 19301, loss = 0.38494 (0.257 sec)\n",
      "INFO:tensorflow:global_step/sec: 428.63\n",
      "INFO:tensorflow:step = 19401, loss = 0.829793 (0.243 sec)\n",
      "INFO:tensorflow:global_step/sec: 400.093\n",
      "INFO:tensorflow:step = 19501, loss = 0.553276 (0.234 sec)\n",
      "INFO:tensorflow:global_step/sec: 426.734\n",
      "INFO:tensorflow:step = 19601, loss = 3.42546 (0.234 sec)\n",
      "INFO:tensorflow:global_step/sec: 425.799\n",
      "INFO:tensorflow:step = 19701, loss = 5.47854 (0.256 sec)\n",
      "INFO:tensorflow:global_step/sec: 283.539\n",
      "INFO:tensorflow:step = 19801, loss = 3.11032 (0.338 sec)\n",
      "INFO:tensorflow:global_step/sec: 282.198\n",
      "INFO:tensorflow:step = 19901, loss = 1.51244 (0.353 sec)\n",
      "INFO:tensorflow:Saving checkpoints for 20000 into C:\\Users\\alpha\\AppData\\Local\\Temp\\tmpvohhi4ms\\model.ckpt.\n",
      "INFO:tensorflow:Loss for final step: 0.384529.\n"
     ]
    },
    {
     "data": {
      "text/plain": [
       "<tensorflow.python.estimator.canned.dnn.DNNClassifier at 0xde227bdc88>"
      ]
     },
     "execution_count": 83,
     "metadata": {},
     "output_type": "execute_result"
    }
   ],
   "source": [
    "model.train(input_fn=train_input_fn,steps=20000)"
   ]
  },
  {
   "cell_type": "code",
   "execution_count": 84,
   "metadata": {
    "collapsed": true
   },
   "outputs": [],
   "source": [
    "pred_input_fn=tf.estimator.inputs.pandas_input_fn(x=xtest,batch_size=len(xtest),shuffle=False)"
   ]
  },
  {
   "cell_type": "code",
   "execution_count": 85,
   "metadata": {
    "collapsed": true
   },
   "outputs": [],
   "source": [
    "pred_gen=model.predict(input_fn=pred_input_fn)"
   ]
  },
  {
   "cell_type": "code",
   "execution_count": 86,
   "metadata": {},
   "outputs": [
    {
     "name": "stdout",
     "output_type": "stream",
     "text": [
      "INFO:tensorflow:Restoring parameters from C:\\Users\\alpha\\AppData\\Local\\Temp\\tmpvohhi4ms\\model.ckpt-20000\n"
     ]
    }
   ],
   "source": [
    "predictions=list(pred_gen)"
   ]
  },
  {
   "cell_type": "code",
   "execution_count": 89,
   "metadata": {
    "collapsed": true
   },
   "outputs": [],
   "source": [
    "final_preds=[pred['class_ids'][0] for pred in predictions]"
   ]
  },
  {
   "cell_type": "code",
   "execution_count": 91,
   "metadata": {
    "collapsed": true
   },
   "outputs": [],
   "source": [
    "from sklearn.metrics import classification_report"
   ]
  },
  {
   "cell_type": "code",
   "execution_count": 92,
   "metadata": {},
   "outputs": [
    {
     "name": "stdout",
     "output_type": "stream",
     "text": [
      "             precision    recall  f1-score   support\n",
      "\n",
      "          0       0.97      0.98      0.97       157\n",
      "          1       0.98      0.97      0.97       143\n",
      "\n",
      "avg / total       0.97      0.97      0.97       300\n",
      "\n"
     ]
    }
   ],
   "source": [
    "print(classification_report(ytest,final_preds))"
   ]
  },
  {
   "cell_type": "code",
   "execution_count": null,
   "metadata": {
    "collapsed": true
   },
   "outputs": [],
   "source": []
  }
 ],
 "metadata": {
  "kernelspec": {
   "display_name": "Python 3",
   "language": "python",
   "name": "python3"
  },
  "language_info": {
   "codemirror_mode": {
    "name": "ipython",
    "version": 3
   },
   "file_extension": ".py",
   "mimetype": "text/x-python",
   "name": "python",
   "nbconvert_exporter": "python",
   "pygments_lexer": "ipython3",
   "version": "3.5.4"
  }
 },
 "nbformat": 4,
 "nbformat_minor": 2
}
