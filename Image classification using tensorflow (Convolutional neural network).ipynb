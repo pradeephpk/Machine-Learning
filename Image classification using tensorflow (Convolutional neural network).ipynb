{
 "cells": [
  {
   "cell_type": "code",
   "execution_count": 2,
   "metadata": {},
   "outputs": [
    {
     "name": "stderr",
     "output_type": "stream",
     "text": [
      "/root/anaconda3/lib/python3.6/site-packages/h5py/__init__.py:36: FutureWarning: Conversion of the second argument of issubdtype from `float` to `np.floating` is deprecated. In future, it will be treated as `np.float64 == np.dtype(float).type`.\n",
      "  from ._conv import register_converters as _register_converters\n"
     ]
    }
   ],
   "source": [
    "import numpy as np\n",
    "import pandas as pd\n",
    "import tensorflow as tf"
   ]
  },
  {
   "cell_type": "code",
   "execution_count": 3,
   "metadata": {},
   "outputs": [],
   "source": [
    "from tensorflow.examples.tutorials.mnist import input_data"
   ]
  },
  {
   "cell_type": "code",
   "execution_count": 4,
   "metadata": {},
   "outputs": [],
   "source": [
    "def cnn_model(features,labels,mode):\n",
    "    \n",
    "    input_layer=tf.reshape(features['x'],shape=[-1,28,28,1])\n",
    "    \n",
    "    conv1=tf.layers.conv2d(inputs=input_layer,filters=32,kernel_size=[5,5],padding='same',activation=tf.nn.relu)\n",
    "    \n",
    "    pool1=tf.layers.max_pooling2d(inputs=conv1,pool_size=[2,2],strides=2)\n",
    "    \n",
    "    conv2=tf.layers.conv2d(inputs=pool1,filters=64,kernel_size=[5,5],padding='same',activation=tf.nn.relu)\n",
    "    \n",
    "    pool2=tf.layers.max_pooling2d(inputs=conv2,pool_size=[2,2],strides=2)\n",
    "    \n",
    "    pool2_flat=tf.reshape(pool2,shape=[-1,7*7*64])\n",
    "    \n",
    "    dense=tf.layers.dense(inputs=pool2_flat,units=1024,activation=tf.nn.relu)\n",
    "    \n",
    "    dropout=tf.layers.dropout(inputs=dense,rate=0.4,training=True)\n",
    "    \n",
    "    final_out=tf.layers.dense(inputs=dropout,units=10)\n",
    "    \n",
    "    y_pred = tf.nn.softmax(logits=final_out)\n",
    "    \n",
    "    y_pred_cls = tf.argmax(y_pred,axis=1)\n",
    "    \n",
    "    if mode == tf.estimator.ModeKeys.PREDICT:\n",
    "        \n",
    "        spec = tf.estimator.EstimatorSpec(mode=mode,predictions=y_pred_cls)\n",
    "        \n",
    "    else:\n",
    "        \n",
    "        cross_entropy = tf.nn.sparse_softmax_cross_entropy_with_logits(labels=labels,logits=final_out)\n",
    "        \n",
    "        loss = tf.reduce_mean(cross_entropy)\n",
    "        \n",
    "        optimizer = tf.train.AdamOptimizer(learning_rate=0.001)\n",
    "        \n",
    "        train_op = optimizer.minimize(loss=loss,global_step = tf.train.get_global_step())\n",
    "        \n",
    "        metrics = { \"accuracy\":tf.metrics.accuracy(labels,y_pred_cls) }\n",
    "        \n",
    "        spec = tf.estimator.EstimatorSpec(mode=mode,loss=loss,train_op=train_op,eval_metric_ops=metrics)\n",
    "        \n",
    "    return spec\n",
    "\n",
    "    \n",
    "    "
   ]
  },
  {
   "cell_type": "code",
   "execution_count": 5,
   "metadata": {},
   "outputs": [
    {
     "name": "stdout",
     "output_type": "stream",
     "text": [
      "INFO:tensorflow:Using default config.\n",
      "WARNING:tensorflow:Using temporary folder as model directory: /tmp/tmp4v5qbsh0\n",
      "INFO:tensorflow:Using config: {'_model_dir': '/tmp/tmp4v5qbsh0', '_tf_random_seed': None, '_save_summary_steps': 100, '_save_checkpoints_steps': None, '_save_checkpoints_secs': 600, '_session_config': None, '_keep_checkpoint_max': 5, '_keep_checkpoint_every_n_hours': 10000, '_log_step_count_steps': 100, '_train_distribute': None, '_device_fn': None, '_service': None, '_cluster_spec': <tensorflow.python.training.server_lib.ClusterSpec object at 0x7fcd78b66748>, '_task_type': 'worker', '_task_id': 0, '_global_id_in_cluster': 0, '_master': '', '_evaluation_master': '', '_is_chief': True, '_num_ps_replicas': 0, '_num_worker_replicas': 1}\n"
     ]
    }
   ],
   "source": [
    "model = tf.estimator.Estimator(model_fn=cnn_model)"
   ]
  },
  {
   "cell_type": "code",
   "execution_count": 7,
   "metadata": {},
   "outputs": [
    {
     "name": "stdout",
     "output_type": "stream",
     "text": [
      "Extracting mnist/train-images-idx3-ubyte.gz\n",
      "Extracting mnist/train-labels-idx1-ubyte.gz\n",
      "Extracting mnist/t10k-images-idx3-ubyte.gz\n",
      "Extracting mnist/t10k-labels-idx1-ubyte.gz\n"
     ]
    }
   ],
   "source": [
    "mnist=input_data.read_data_sets('mnist/',one_hot=False)"
   ]
  },
  {
   "cell_type": "code",
   "execution_count": 9,
   "metadata": {},
   "outputs": [],
   "source": [
    "x = np.array(mnist.train.images, 'float32')\n",
    "y= np.array(mnist.train.labels, 'int64')"
   ]
  },
  {
   "cell_type": "raw",
   "metadata": {},
   "source": []
  },
  {
   "cell_type": "code",
   "execution_count": 10,
   "metadata": {},
   "outputs": [],
   "source": [
    "train_input_fn = tf.estimator.inputs.numpy_input_fn(x={'x':x},y=y,num_epochs=None,shuffle=True)"
   ]
  },
  {
   "cell_type": "code",
   "execution_count": 12,
   "metadata": {},
   "outputs": [
    {
     "name": "stdout",
     "output_type": "stream",
     "text": [
      "INFO:tensorflow:Calling model_fn.\n",
      "INFO:tensorflow:Done calling model_fn.\n",
      "INFO:tensorflow:Create CheckpointSaverHook.\n",
      "INFO:tensorflow:Graph was finalized.\n",
      "INFO:tensorflow:Restoring parameters from /tmp/tmp4v5qbsh0/model.ckpt-1000\n",
      "INFO:tensorflow:Running local_init_op.\n",
      "INFO:tensorflow:Done running local_init_op.\n",
      "INFO:tensorflow:Saving checkpoints for 1000 into /tmp/tmp4v5qbsh0/model.ckpt.\n",
      "INFO:tensorflow:loss = 0.047800004, step = 1001\n",
      "INFO:tensorflow:global_step/sec: 2.35703\n",
      "INFO:tensorflow:loss = 0.00859764, step = 1101 (42.428 sec)\n",
      "INFO:tensorflow:global_step/sec: 2.47332\n",
      "INFO:tensorflow:loss = 0.022395914, step = 1201 (40.432 sec)\n",
      "INFO:tensorflow:global_step/sec: 2.13626\n",
      "INFO:tensorflow:loss = 0.005600231, step = 1301 (46.810 sec)\n",
      "INFO:tensorflow:global_step/sec: 2.52495\n",
      "INFO:tensorflow:loss = 0.045541592, step = 1401 (39.605 sec)\n",
      "INFO:tensorflow:global_step/sec: 2.24184\n",
      "INFO:tensorflow:loss = 0.045795076, step = 1501 (44.608 sec)\n",
      "INFO:tensorflow:global_step/sec: 1.99259\n",
      "INFO:tensorflow:loss = 0.015702978, step = 1601 (50.186 sec)\n",
      "INFO:tensorflow:global_step/sec: 2.04469\n",
      "INFO:tensorflow:loss = 0.0032900677, step = 1701 (48.906 sec)\n",
      "INFO:tensorflow:global_step/sec: 2.41554\n",
      "INFO:tensorflow:loss = 0.021733029, step = 1801 (41.397 sec)\n",
      "INFO:tensorflow:global_step/sec: 2.43597\n",
      "INFO:tensorflow:loss = 0.009084794, step = 1901 (41.054 sec)\n",
      "INFO:tensorflow:global_step/sec: 2.05914\n",
      "INFO:tensorflow:loss = 0.010084091, step = 2001 (48.561 sec)\n",
      "INFO:tensorflow:global_step/sec: 2.36849\n",
      "INFO:tensorflow:loss = 0.11204585, step = 2101 (42.221 sec)\n",
      "INFO:tensorflow:global_step/sec: 2.44765\n",
      "INFO:tensorflow:loss = 0.007017133, step = 2201 (40.856 sec)\n",
      "INFO:tensorflow:global_step/sec: 2.47008\n",
      "INFO:tensorflow:loss = 0.00351886, step = 2301 (40.484 sec)\n",
      "INFO:tensorflow:Saving checkpoints for 2379 into /tmp/tmp4v5qbsh0/model.ckpt.\n",
      "INFO:tensorflow:global_step/sec: 2.43285\n",
      "INFO:tensorflow:loss = 0.0061585163, step = 2401 (41.104 sec)\n",
      "INFO:tensorflow:global_step/sec: 2.43739\n",
      "INFO:tensorflow:loss = 0.007211497, step = 2501 (41.028 sec)\n",
      "INFO:tensorflow:global_step/sec: 2.42488\n",
      "INFO:tensorflow:loss = 0.0042441944, step = 2601 (41.239 sec)\n",
      "INFO:tensorflow:global_step/sec: 2.45768\n",
      "INFO:tensorflow:loss = 0.007504764, step = 2701 (40.691 sec)\n",
      "INFO:tensorflow:global_step/sec: 2.42402\n",
      "INFO:tensorflow:loss = 0.01951111, step = 2801 (41.334 sec)\n",
      "INFO:tensorflow:global_step/sec: 2.46894\n",
      "INFO:tensorflow:loss = 0.015484693, step = 2901 (40.420 sec)\n",
      "INFO:tensorflow:Saving checkpoints for 3000 into /tmp/tmp4v5qbsh0/model.ckpt.\n",
      "INFO:tensorflow:Loss for final step: 0.00035410834.\n"
     ]
    },
    {
     "data": {
      "text/plain": [
       "<tensorflow.python.estimator.estimator.Estimator at 0x7fcd78b66588>"
      ]
     },
     "execution_count": 12,
     "metadata": {},
     "output_type": "execute_result"
    }
   ],
   "source": [
    "model.train(input_fn=train_input_fn,steps=2000)"
   ]
  },
  {
   "cell_type": "code",
   "execution_count": 13,
   "metadata": {},
   "outputs": [],
   "source": [
    "x1 = np.array(mnist.test.images, 'float32')\n",
    "y1= np.array(mnist.test.labels, 'int64')"
   ]
  },
  {
   "cell_type": "code",
   "execution_count": 14,
   "metadata": {},
   "outputs": [],
   "source": [
    "test_input_fn = tf.estimator.inputs.numpy_input_fn(x={'x':x1},y=y1,num_epochs=1,shuffle=False)"
   ]
  },
  {
   "cell_type": "code",
   "execution_count": 15,
   "metadata": {},
   "outputs": [
    {
     "name": "stdout",
     "output_type": "stream",
     "text": [
      "INFO:tensorflow:Calling model_fn.\n",
      "INFO:tensorflow:Done calling model_fn.\n",
      "INFO:tensorflow:Starting evaluation at 2019-01-13-12:20:30\n",
      "INFO:tensorflow:Graph was finalized.\n",
      "INFO:tensorflow:Restoring parameters from /tmp/tmp4v5qbsh0/model.ckpt-3000\n",
      "INFO:tensorflow:Running local_init_op.\n",
      "INFO:tensorflow:Done running local_init_op.\n",
      "INFO:tensorflow:Finished evaluation at 2019-01-13-12:20:43\n",
      "INFO:tensorflow:Saving dict for global step 3000: accuracy = 0.9928, global_step = 3000, loss = 0.02207031\n",
      "INFO:tensorflow:Saving 'checkpoint_path' summary for global step 3000: /tmp/tmp4v5qbsh0/model.ckpt-3000\n"
     ]
    }
   ],
   "source": [
    "result = model.evaluate(input_fn=test_input_fn)"
   ]
  },
  {
   "cell_type": "code",
   "execution_count": 16,
   "metadata": {},
   "outputs": [
    {
     "data": {
      "text/plain": [
       "{'accuracy': 0.9928, 'loss': 0.02207031, 'global_step': 3000}"
      ]
     },
     "execution_count": 16,
     "metadata": {},
     "output_type": "execute_result"
    }
   ],
   "source": [
    "result"
   ]
  },
  {
   "cell_type": "code",
   "execution_count": null,
   "metadata": {},
   "outputs": [],
   "source": []
  },
  {
   "cell_type": "code",
   "execution_count": null,
   "metadata": {},
   "outputs": [],
   "source": []
  },
  {
   "cell_type": "code",
   "execution_count": null,
   "metadata": {},
   "outputs": [],
   "source": []
  },
  {
   "cell_type": "code",
   "execution_count": null,
   "metadata": {},
   "outputs": [],
   "source": []
  },
  {
   "cell_type": "code",
   "execution_count": null,
   "metadata": {},
   "outputs": [],
   "source": []
  },
  {
   "cell_type": "code",
   "execution_count": null,
   "metadata": {},
   "outputs": [],
   "source": []
  },
  {
   "cell_type": "code",
   "execution_count": null,
   "metadata": {},
   "outputs": [],
   "source": []
  },
  {
   "cell_type": "code",
   "execution_count": null,
   "metadata": {},
   "outputs": [],
   "source": []
  },
  {
   "cell_type": "code",
   "execution_count": null,
   "metadata": {},
   "outputs": [],
   "source": []
  },
  {
   "cell_type": "code",
   "execution_count": null,
   "metadata": {},
   "outputs": [],
   "source": []
  }
 ],
 "metadata": {
  "kernelspec": {
   "display_name": "Python 3",
   "language": "python",
   "name": "python3"
  },
  "language_info": {
   "codemirror_mode": {
    "name": "ipython",
    "version": 3
   },
   "file_extension": ".py",
   "mimetype": "text/x-python",
   "name": "python",
   "nbconvert_exporter": "python",
   "pygments_lexer": "ipython3",
   "version": "3.6.5"
  }
 },
 "nbformat": 4,
 "nbformat_minor": 2
}
